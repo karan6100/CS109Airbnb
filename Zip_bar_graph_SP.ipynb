{
 "cells": [
  {
   "cell_type": "code",
   "execution_count": 9,
   "metadata": {
    "collapsed": true
   },
   "outputs": [],
   "source": [
    "from IPython.display import display\n",
    "import nltk\n",
    "import numpy as np\n",
    "import matplotlib\n",
    "import matplotlib.pyplot as plt\n",
    "from mpl_toolkits.mplot3d import Axes3D\n",
    "import matplotlib.cm as cmx\n",
    "import matplotlib.colors as colors\n",
    "import pandas as pd\n",
    "from collections import Counter\n",
    "%matplotlib inline"
   ]
  },
  {
   "cell_type": "code",
   "execution_count": 7,
   "metadata": {
    "collapsed": false
   },
   "outputs": [
    {
     "name": "stdout",
     "output_type": "stream",
     "text": [
      "Index(['id', 'scrape_id', 'last_scraped', 'name', 'picture_url', 'host_id',\n",
      "       'host_name', 'host_since', 'host_picture_url', 'street',\n",
      "       'neighbourhood', 'neighbourhood_cleansed', 'city', 'state', 'zipcode',\n",
      "       'market', 'country', 'latitude', 'longitude', 'is_location_exact',\n",
      "       'property_type', 'room_type', 'accommodates', 'bathrooms', 'bedrooms',\n",
      "       'beds', 'bed_type', 'square_feet', 'price', 'weekly_price',\n",
      "       'monthly_price', 'guests_included', 'extra_people', 'minimum_nights',\n",
      "       'maximum_nights', 'calendar_updated', 'availability_30',\n",
      "       'availability_60', 'availability_90', 'availability_365',\n",
      "       'calendar_last_scraped', 'number_of_reviews', 'first_review',\n",
      "       'last_review', 'review_scores_rating', 'review_scores_accuracy',\n",
      "       'review_scores_cleanliness', 'review_scores_checkin',\n",
      "       'review_scores_communication', 'review_scores_location',\n",
      "       'review_scores_value', 'host_listing_count'],\n",
      "      dtype='object')\n"
     ]
    }
   ],
   "source": [
    "df = pd.read_csv('listings.csv',encoding = 'latin1')\n",
    "print(df.columns)"
   ]
  },
  {
   "cell_type": "code",
   "execution_count": 14,
   "metadata": {
    "collapsed": false
   },
   "outputs": [
    {
     "data": {
      "text/plain": [
       "0     10022-4175\n",
       "1            NaN\n",
       "2          11221\n",
       "3          10011\n",
       "4          10011\n",
       "5          11231\n",
       "6          11207\n",
       "7          10013\n",
       "8          10003\n",
       "9          11221\n",
       "10         11217\n",
       "11         11221\n",
       "12         10018\n",
       "13         11213\n",
       "14         10019\n",
       "15         10014\n",
       "16         10003\n",
       "17         10040\n",
       "18         10033\n",
       "19         11238\n",
       "20         10038\n",
       "21         10027\n",
       "22         11222\n",
       "23         11206\n",
       "24         10025\n",
       "Name: zipcode, dtype: object"
      ]
     },
     "metadata": {},
     "output_type": "display_data"
    }
   ],
   "source": [
    "display(df.zipcode[:25])"
   ]
  },
  {
   "cell_type": "code",
   "execution_count": 38,
   "metadata": {
    "collapsed": false
   },
   "outputs": [
    {
     "data": {
      "text/plain": [
       "<matplotlib.axes._subplots.AxesSubplot at 0x11cbf2588>"
      ]
     },
     "execution_count": 38,
     "metadata": {},
     "output_type": "execute_result"
    },
    {
     "data": {
      "image/png": "[encoded data removed]",
      "text/plain": [
       "<matplotlib.figure.Figure at 0x11ccf0940>"
      ]
     },
     "metadata": {},
     "output_type": "display_data"
    }
   ],
   "source": [
    "df = df[pd.notnull(df['zipcode'])]\n",
    "df['zipcode'] = df['zipcode'].astype('str')\n",
    "mask = (df['zipcode'].str.len() == 5)\n",
    "df = df.loc[mask]\n",
    "\n",
    "# df = df[(str(df.zipcode))]\n",
    "# df = df[len(df.zipcode)==5]\n",
    "nb_counts = Counter(df.zipcode)\n",
    "tdf = pd.DataFrame.from_dict(nb_counts, orient='index').sort_values(by=0)\n",
    "highest_zip = tdf.tail(50)\n",
    "\n",
    "highest_zip.plot(kind='bar',figsize=(10,10))"
   ]
  },
  {
   "cell_type": "code",
   "execution_count": null,
   "metadata": {
    "collapsed": true
   },
   "outputs": [],
   "source": []
  }
 ],
 "metadata": {
  "kernelspec": {
   "display_name": "Python 3",
   "language": "python",
   "name": "python3"
  },
  "language_info": {
   "codemirror_mode": {
    "name": "ipython",
    "version": 3
   },
   "file_extension": ".py",
   "mimetype": "text/x-python",
   "name": "python",
   "nbconvert_exporter": "python",
   "pygments_lexer": "ipython3",
   "version": "3.5.2"
  }
 },
 "nbformat": 4,
 "nbformat_minor": 0
}
