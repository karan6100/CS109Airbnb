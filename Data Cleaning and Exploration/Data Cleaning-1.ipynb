{
 "cells": [
  {
   "cell_type": "markdown",
   "metadata": {},
   "source": [
    "# Data Cleaning"
   ]
  },
  {
   "cell_type": "markdown",
   "metadata": {},
   "source": [
    "#### The following notebook describes the process in reaching our final dataset"
   ]
  },
  {
   "cell_type": "code",
   "execution_count": 39,
   "metadata": {
    "collapsed": false
   },
   "outputs": [],
   "source": [
    "import numpy as np\n",
    "from scipy import sparse\n",
    "from scipy.stats import mstats\n",
    "import re\n",
    "import matplotlib\n",
    "import pandas as pd\n",
    "from sklearn import linear_model\n",
    "from sklearn.decomposition import PCA\n",
    "from sklearn.linear_model import LogisticRegression as LogReg\n",
    "from sklearn.cross_validation import train_test_split\n",
    "from sklearn.ensemble import RandomForestRegressor\n",
    "import sklearn.metrics as metrics\n",
    "import matplotlib\n",
    "import matplotlib.pyplot as plt\n",
    "from mpl_toolkits.mplot3d import Axes3D\n",
    "from sklearn.ensemble import GradientBoostingRegressor\n",
    "import matplotlib.cm as cmx\n",
    "import matplotlib.colors as colors\n",
    "import datetime as dt\n",
    "import math\n",
    "from sklearn.linear_model import Lasso as Lasso_Reg\n",
    "import numpy as np \n",
    "import sklearn.preprocessing as Preprocessing\n",
    "from sklearn.preprocessing import StandardScaler as Standardize\n",
    "%matplotlib inline\n",
    "from sklearn.linear_model import LinearRegression as Lin_Reg\n",
    "from sklearn.linear_model import Ridge as Ridge_Reg"
   ]
  },
  {
   "cell_type": "markdown",
   "metadata": {},
   "source": [
    "### Clean Calendar Dataset\n",
    "\n",
    "The calendar dataset gives the price of listings over the course of a year. In order to clean this dataset, we first renamed the columns with more appropriate labels. We then stripped the dates and prices of their extraneous characters so they were easier to work with. Finally, we converted the column types to apropriate dtypes and filtered out columns with no information. Our calendar dataset, which was too large to upload on Github, is pulled from the following website: file:///Users/Mirai/Downloads/Airbnb_Pricing_Prediction%20(20).pdf"
   ]
  },
  {
   "cell_type": "code",
   "execution_count": 2,
   "metadata": {
    "collapsed": true
   },
   "outputs": [],
   "source": [
    "# open calendar csv file\n",
    "calendar = pd.read_csv('calendar.csv', delimiter = '\\t') \n",
    "\n",
    "# rename columns \n",
    "calendar[\"listing\"], calendar['date'], calendar['available'], calendar['price'] = zip(*calendar['listing_id,\"date\",\"available\",\"price\"'].str.split(',').tolist())\n",
    "calendar = calendar.drop(['listing_id,\"date\",\"available\",\"price\"'], 1)\n",
    "\n",
    "# change column contents to be more workable format\n",
    "calendar['date'] = calendar['date'].map(lambda x: x.lstrip('\"').rstrip('\"'))\n",
    "calendar['price'] = calendar['price'].map(lambda x: x.lstrip('$').rstrip('.'))\n",
    "\n",
    "# change column dtypes \n",
    "calendar['price'] = pd.to_numeric(calendar['price'])\n",
    "calendar['date'] = pd.to_datetime(calendar['date'])\n",
    "calendar['listing'] = pd.to_numeric(calendar['listing'])\n",
    "\n",
    "# filter out the columns with no prices \n",
    "calendar=calendar[calendar['available'] == 't']"
   ]
  },
  {
   "cell_type": "markdown",
   "metadata": {},
   "source": [
    "### Clean Listings Dataset\n",
    "\n",
    "The listings dataset is our main dataset for this project. It contains thousands of rows of listing information for Airbnbs in New York City. We attempted to clean the data many different ways before settling on our final dataset. One notable technique we tried was KNN. Ultimately, this was unsuccessful because most rows had some NaN values and it was therefore difficult to find similar listings. KNN ended up being too costly and ineffective.\n",
    "\n",
    "Below, we outline the process that ended up working best for us: \n",
    "First, we dropped the columns with null values that added no values to the dataset. We then dropped null values that could not be salvaged (things that could not be filled in based off of any known technique or our intuition such as ID or property type).\n",
    "Next, we changed the format of two variables (price and extra people) to integers rather than objects so we could easily perform statistical procedures with the information provided. The zipcodes were given in their extended form, so we decided to only use the first five numbers.\n",
    "For missing weekly and monthly prices and regular prices, we used scaled nightly price to fill in the missing data. Also, for all the pricing data, we converted the format to float values. "
   ]
  },
  {
   "cell_type": "code",
   "execution_count": 3,
   "metadata": {
    "collapsed": true
   },
   "outputs": [],
   "source": [
    "# open dataset with information and pricing for each listing \n",
    "df = pd.read_csv('listings.csv',encoding='latin1')"
   ]
  },
  {
   "cell_type": "code",
   "execution_count": 4,
   "metadata": {
    "collapsed": true
   },
   "outputs": [],
   "source": [
    "# drop columns with null values that don't add important information to dataset\n",
    "df = df.drop(['country', 'neighbourhood', 'square_feet', 'state'], 1)\n",
    "\n",
    "# drop null values that can't be salvaged \n",
    "df = df[(pd.notnull(df['id']))&(pd.notnull(df['host_id']))&(pd.notnull(df['zipcode']))&(pd.notnull(df['latitude']))]\n",
    "df = df[(pd.notnull(df['longitude']))&(pd.notnull(df['bathrooms']))&(pd.notnull(df['bedrooms']))&(pd.notnull(df['beds']))]\n",
    "df = df[(pd.notnull(df['property_type']))&(pd.notnull(df['price']))&((df.number_of_reviews!=0)&(pd.notnull(df.review_scores_rating)))]\n",
    "\n",
    "# reset index after dropping certain rows\n",
    "df = df.reset_index(drop=True)\n",
    "\n",
    "# change format of prices and extra_people to integer rather than object\n",
    "prices = []\n",
    "extra_people = []\n",
    "for i in range(len(df)):\n",
    "    price = int(float(str(df['price'][i]).replace('$', '').replace(',', '')))\n",
    "    extra_person = int(float(str(df['extra_people'][i]).replace('$', '').replace(',', '')))\n",
    "    prices.append(price)\n",
    "    extra_people.append(extra_person)\n",
    "\n",
    "df['price'] = prices\n",
    "df['extra_people'] = extra_people\n",
    "\n",
    "# only keep first five numbers of zipcode \n",
    "zipcodes = []\n",
    "for i in range(len(df)):\n",
    "    zipcode = df['zipcode'][i][:5]\n",
    "    zipcodes.append(zipcode)\n",
    "df['zipcode'] = zipcodes\n",
    "\n",
    "# fill the null values in weekly_prices and monthly_prices column\n",
    "# change the dtype from object to integer in these two columns\n",
    "wprices = []\n",
    "mprices = []\n",
    "\n",
    "for i in range(len(df)):\n",
    "    if pd.isnull(df['weekly_price'][i]):\n",
    "        wprice = df['price'][i] * 7\n",
    "    elif pd.notnull(df['weekly_price'][i]):\n",
    "        wprice = int(float(str(df['weekly_price'][i]).replace('$', '').replace(',', '')))\n",
    "    wprices.append(wprice)\n",
    "    if pd.isnull(df['monthly_price'][i]):\n",
    "        mprice = df['price'][i] * 30\n",
    "    elif pd.notnull(df['monthly_price'][i]):\n",
    "        mprice = int(float(str(df['monthly_price'][i]).replace('$', '').replace(',', '')))\n",
    "    mprices.append(mprice)\n",
    "    \n",
    "df['weekly_price'] = wprices\n",
    "df['monthly_price'] = mprices\n",
    "\n",
    "df = df.dropna(axis=0)\n",
    "df = df.reset_index(drop=True)"
   ]
  },
  {
   "cell_type": "markdown",
   "metadata": {},
   "source": [
    "### Adding Sentiment Analysis"
   ]
  },
  {
   "cell_type": "markdown",
   "metadata": {},
   "source": [
    "We performed sentiment analysis using a dataset that provided reviews on different listings. More details about sentiment analysis are shown in another notebook, as there is a good deal of cleaning, exploration, and analysis that occurred on that notebook alone, but here we show how sentiment scores were included into our master dataset. Additionally, we added the 'host_since', 'first_review', and 'last_review' columns from the sentiment dataset, because in that dataset cleaning, we had altered these columns (rather than dates, we made them \"time\", i.e.: seconds, to so that they were in integer, rather than object, format). More to come in that notebook. "
   ]
  },
  {
   "cell_type": "code",
   "execution_count": 5,
   "metadata": {
    "collapsed": true
   },
   "outputs": [],
   "source": [
    "# drop the original host_since, first_review, last_review\n",
    "df = df.drop(['host_since', 'first_review', 'last_review'], 1)\n",
    "\n",
    "# add in new csv with the sentiment columns and converted host_since, first_review, last_review columns\n",
    "sentiment = pd.read_csv('time_sentiment.csv')\n",
    "\n",
    "host_since = sentiment['host_since'] \n",
    "first_review = sentiment['first_review'] \n",
    "last_review = sentiment['last_review'] \n",
    "sentiments = sentiment['sentiment']\n",
    "\n",
    "frames = [host_since, first_review, last_review, sentiments]\n",
    "final_sentiment = pd.concat(frames, 1)\n",
    "final_sentiment = final_sentiment.dropna(axis=0, how='any')\n",
    "frames_new = [df, final_sentiment]\n",
    "\n",
    "df_final = pd.concat(frames_new, 1)"
   ]
  },
  {
   "cell_type": "markdown",
   "metadata": {},
   "source": [
    "### Incorporating Indicator for Holidays"
   ]
  },
  {
   "cell_type": "markdown",
   "metadata": {},
   "source": [
    "We later explain some explorations that were done on our calendar dataset. However, here we show how we added a column of indicators to the master dataset for each holiday; a listing received a \"1\" on a certain column if its price fluctuated on the day of the holiday. "
   ]
  },
  {
   "cell_type": "code",
   "execution_count": 22,
   "metadata": {
    "collapsed": true
   },
   "outputs": [],
   "source": [
    "# array of most important holidays \n",
    "unique_ids = df_final['id'].unique()\n",
    "unique_dates = ['2015-01-01', '2015-07-04', '2015-12-25', '2015-12-31']\n",
    "\n",
    "# empty arrays which we will add our indicators to \n",
    "new_years = []\n",
    "july_4th = []\n",
    "christmas = []\n",
    "eve = []\n",
    "holidays = [new_years, july_4th, christmas, eve]\n",
    "\n",
    "# add an indicator for each row if a listing's price changed on any of these holidays \n",
    "for i in range(len(unique_ids)):\n",
    "    real_price = df_final['price'][i]\n",
    "    list_prices = calendar[calendar['listing'] == unique_ids[i]]\n",
    "    # indicator column for each holiday\n",
    "    for j in range(len(unique_dates)):\n",
    "        price_holiday = list_prices['price'][list_prices['date'] == unique_dates[j]]\n",
    "        if len(price_holiday) > 0:\n",
    "            # check if price changes on that holiday \n",
    "            if price_holiday.iloc[0] != real_price:\n",
    "                holidays[j].append(1)\n",
    "            else:\n",
    "                holidays[j].append(0)\n",
    "        else:\n",
    "            holidays[j].append(0)"
   ]
  },
  {
   "cell_type": "code",
   "execution_count": 23,
   "metadata": {
    "collapsed": true
   },
   "outputs": [],
   "source": [
    "# add column of indicators for each holiday to the dataset\n",
    "df_final['New Years'] = new_years\n",
    "df_final['July 4th'] = july_4th\n",
    "df_final['Christmas'] = christmas\n",
    "df_final['New Years Eve'] = eve"
   ]
  },
  {
   "cell_type": "markdown",
   "metadata": {},
   "source": [
    "### Adding \"Nearest Attractions\" Feature\n",
    "\n",
    "More details are shown in a separate notebook, but here we add a count of the best attractions in NY that the listing is close to. "
   ]
  },
  {
   "cell_type": "code",
   "execution_count": 24,
   "metadata": {
    "collapsed": false
   },
   "outputs": [],
   "source": [
    "attractions = pd.read_csv('attractions_added.csv')"
   ]
  },
  {
   "cell_type": "code",
   "execution_count": 25,
   "metadata": {
    "collapsed": false
   },
   "outputs": [],
   "source": [
    "attractions = attractions['attraction_count']\n",
    "df_final['attraction_count'] = attractions"
   ]
  },
  {
   "cell_type": "markdown",
   "metadata": {},
   "source": [
    "### Standardization of Certain Variables"
   ]
  },
  {
   "cell_type": "markdown",
   "metadata": {},
   "source": [
    "In a separate dataset, after an iteration of tuning models, we noticed a few features that were skewing our results because they were not standardized. Hence, we added this step of 'feature engineering' to our final dataset, in which we standardized/winsorized certain features in our master dataset."
   ]
  },
  {
   "cell_type": "code",
   "execution_count": 40,
   "metadata": {
    "collapsed": false
   },
   "outputs": [],
   "source": [
    "#standardize the new data\n",
    "for feat in ['host_since','first_review','last_review']:\n",
    "    df_final[feat] = (df_final[feat] - df_final[feat].mean()) / (df_final[feat].max() - df_final[feat].min())\n",
    "df_final['maximum_nights'] = mstats.winsorize(df_final['maximum_nights'],limits=(0,0.95))"
   ]
  },
  {
   "cell_type": "markdown",
   "metadata": {},
   "source": [
    "### Final Dataset!!"
   ]
  },
  {
   "cell_type": "code",
   "execution_count": 41,
   "metadata": {
    "collapsed": false
   },
   "outputs": [
    {
     "data": {
      "text/html": [
       "<div>\n",
       "<table border=\"1\" class=\"dataframe\">\n",
       "  <thead>\n",
       "    <tr style=\"text-align: right;\">\n",
       "      <th></th>\n",
       "      <th>id</th>\n",
       "      <th>scrape_id</th>\n",
       "      <th>last_scraped</th>\n",
       "      <th>name</th>\n",
       "      <th>picture_url</th>\n",
       "      <th>host_id</th>\n",
       "      <th>host_name</th>\n",
       "      <th>host_picture_url</th>\n",
       "      <th>street</th>\n",
       "      <th>neighbourhood_cleansed</th>\n",
       "      <th>...</th>\n",
       "      <th>host_since</th>\n",
       "      <th>first_review</th>\n",
       "      <th>last_review</th>\n",
       "      <th>sentiment</th>\n",
       "      <th>Christmas</th>\n",
       "      <th>New Years</th>\n",
       "      <th>New Years Eve</th>\n",
       "      <th>Independence Day</th>\n",
       "      <th>July 4th</th>\n",
       "      <th>attraction_count</th>\n",
       "    </tr>\n",
       "  </thead>\n",
       "  <tbody>\n",
       "    <tr>\n",
       "      <th>0</th>\n",
       "      <td>1069266</td>\n",
       "      <td>2.015010e+13</td>\n",
       "      <td>1/2/15</td>\n",
       "      <td>Stay like a real New Yorker!</td>\n",
       "      <td>https://a0.muscache.com/pictures/50276484/larg...</td>\n",
       "      <td>5867023</td>\n",
       "      <td>Michael</td>\n",
       "      <td>https://a2.muscache.com/ic/users/5867023/profi...</td>\n",
       "      <td>East 53rd Street, New York, NY 10022, United S...</td>\n",
       "      <td>Midtown East</td>\n",
       "      <td>...</td>\n",
       "      <td>0.049161</td>\n",
       "      <td>-0.093997</td>\n",
       "      <td>0.048728</td>\n",
       "      <td>0.283516</td>\n",
       "      <td>0</td>\n",
       "      <td>0</td>\n",
       "      <td>0</td>\n",
       "      <td>0</td>\n",
       "      <td>0</td>\n",
       "      <td>1</td>\n",
       "    </tr>\n",
       "    <tr>\n",
       "      <th>1</th>\n",
       "      <td>2061725</td>\n",
       "      <td>2.015010e+13</td>\n",
       "      <td>1/2/15</td>\n",
       "      <td>Option of 2 Beds w Private Bathroom</td>\n",
       "      <td>https://a2.muscache.com/pictures/50650147/larg...</td>\n",
       "      <td>4601412</td>\n",
       "      <td>Miao</td>\n",
       "      <td>https://a0.muscache.com/ic/users/4601412/profi...</td>\n",
       "      <td>Van Buren Street, Brooklyn, NY 11221, United S...</td>\n",
       "      <td>Bushwick</td>\n",
       "      <td>...</td>\n",
       "      <td>0.010274</td>\n",
       "      <td>0.029741</td>\n",
       "      <td>0.057405</td>\n",
       "      <td>0.437795</td>\n",
       "      <td>0</td>\n",
       "      <td>0</td>\n",
       "      <td>0</td>\n",
       "      <td>0</td>\n",
       "      <td>0</td>\n",
       "      <td>0</td>\n",
       "    </tr>\n",
       "    <tr>\n",
       "      <th>2</th>\n",
       "      <td>44974</td>\n",
       "      <td>2.015010e+13</td>\n",
       "      <td>1/3/15</td>\n",
       "      <td>Charming Bright West Village Studio</td>\n",
       "      <td>https://a1.muscache.com/pictures/20489905/larg...</td>\n",
       "      <td>198425</td>\n",
       "      <td>Sara</td>\n",
       "      <td>https://a0.muscache.com/ic/users/198425/profil...</td>\n",
       "      <td>Greenwich Ave, New York, NY 10011, United States</td>\n",
       "      <td>West Village</td>\n",
       "      <td>...</td>\n",
       "      <td>-0.349120</td>\n",
       "      <td>-0.503387</td>\n",
       "      <td>0.014021</td>\n",
       "      <td>0.308604</td>\n",
       "      <td>0</td>\n",
       "      <td>0</td>\n",
       "      <td>0</td>\n",
       "      <td>0</td>\n",
       "      <td>0</td>\n",
       "      <td>0</td>\n",
       "    </tr>\n",
       "    <tr>\n",
       "      <th>3</th>\n",
       "      <td>4701675</td>\n",
       "      <td>2.015010e+13</td>\n",
       "      <td>1/2/15</td>\n",
       "      <td>Charming Apartment in Chelsea</td>\n",
       "      <td>https://a2.muscache.com/pictures/60588955/larg...</td>\n",
       "      <td>22590025</td>\n",
       "      <td>Charles</td>\n",
       "      <td>https://a2.muscache.com/ic/users/22590025/prof...</td>\n",
       "      <td>West 22nd Street, New York, NY 10011, United S...</td>\n",
       "      <td>Chelsea</td>\n",
       "      <td>...</td>\n",
       "      <td>0.275522</td>\n",
       "      <td>0.164449</td>\n",
       "      <td>0.042220</td>\n",
       "      <td>0.000000</td>\n",
       "      <td>0</td>\n",
       "      <td>0</td>\n",
       "      <td>1</td>\n",
       "      <td>1</td>\n",
       "      <td>0</td>\n",
       "      <td>1</td>\n",
       "    </tr>\n",
       "    <tr>\n",
       "      <th>4</th>\n",
       "      <td>68914</td>\n",
       "      <td>2.015010e+13</td>\n",
       "      <td>1/2/15</td>\n",
       "      <td>Calm &amp; Sunny Apt in Carroll Gardens</td>\n",
       "      <td>https://a1.muscache.com/pictures/434004/large.jpg</td>\n",
       "      <td>343302</td>\n",
       "      <td>Price</td>\n",
       "      <td>https://a1.muscache.com/ic/users/343302/profil...</td>\n",
       "      <td>3rd St, Brooklyn, NY 11231, United States</td>\n",
       "      <td>Carroll Gardens</td>\n",
       "      <td>...</td>\n",
       "      <td>-0.286492</td>\n",
       "      <td>-0.378771</td>\n",
       "      <td>0.044390</td>\n",
       "      <td>0.122600</td>\n",
       "      <td>0</td>\n",
       "      <td>0</td>\n",
       "      <td>0</td>\n",
       "      <td>0</td>\n",
       "      <td>0</td>\n",
       "      <td>0</td>\n",
       "    </tr>\n",
       "  </tbody>\n",
       "</table>\n",
       "<p>5 rows × 55 columns</p>\n",
       "</div>"
      ],
      "text/plain": [
       "        id     scrape_id last_scraped                                 name  \\\n",
       "0  1069266  2.015010e+13       1/2/15        Stay like a real New Yorker!    \n",
       "1  2061725  2.015010e+13       1/2/15  Option of 2 Beds w Private Bathroom   \n",
       "2    44974  2.015010e+13       1/3/15  Charming Bright West Village Studio   \n",
       "3  4701675  2.015010e+13       1/2/15        Charming Apartment in Chelsea   \n",
       "4    68914  2.015010e+13       1/2/15  Calm & Sunny Apt in Carroll Gardens   \n",
       "\n",
       "                                         picture_url   host_id host_name  \\\n",
       "0  https://a0.muscache.com/pictures/50276484/larg...   5867023   Michael   \n",
       "1  https://a2.muscache.com/pictures/50650147/larg...   4601412      Miao   \n",
       "2  https://a1.muscache.com/pictures/20489905/larg...    198425      Sara   \n",
       "3  https://a2.muscache.com/pictures/60588955/larg...  22590025   Charles   \n",
       "4  https://a1.muscache.com/pictures/434004/large.jpg    343302     Price   \n",
       "\n",
       "                                    host_picture_url  \\\n",
       "0  https://a2.muscache.com/ic/users/5867023/profi...   \n",
       "1  https://a0.muscache.com/ic/users/4601412/profi...   \n",
       "2  https://a0.muscache.com/ic/users/198425/profil...   \n",
       "3  https://a2.muscache.com/ic/users/22590025/prof...   \n",
       "4  https://a1.muscache.com/ic/users/343302/profil...   \n",
       "\n",
       "                                              street neighbourhood_cleansed  \\\n",
       "0  East 53rd Street, New York, NY 10022, United S...           Midtown East   \n",
       "1  Van Buren Street, Brooklyn, NY 11221, United S...               Bushwick   \n",
       "2   Greenwich Ave, New York, NY 10011, United States           West Village   \n",
       "3  West 22nd Street, New York, NY 10011, United S...                Chelsea   \n",
       "4          3rd St, Brooklyn, NY 11231, United States        Carroll Gardens   \n",
       "\n",
       "         ...        host_since first_review last_review  sentiment  Christmas  \\\n",
       "0        ...          0.049161    -0.093997    0.048728   0.283516          0   \n",
       "1        ...          0.010274     0.029741    0.057405   0.437795          0   \n",
       "2        ...         -0.349120    -0.503387    0.014021   0.308604          0   \n",
       "3        ...          0.275522     0.164449    0.042220   0.000000          0   \n",
       "4        ...         -0.286492    -0.378771    0.044390   0.122600          0   \n",
       "\n",
       "  New Years New Years Eve Independence Day  July 4th  attraction_count  \n",
       "0         0             0                0         0                 1  \n",
       "1         0             0                0         0                 0  \n",
       "2         0             0                0         0                 0  \n",
       "3         0             1                1         0                 1  \n",
       "4         0             0                0         0                 0  \n",
       "\n",
       "[5 rows x 55 columns]"
      ]
     },
     "execution_count": 41,
     "metadata": {},
     "output_type": "execute_result"
    }
   ],
   "source": [
    "df_final.head()"
   ]
  },
  {
   "cell_type": "code",
   "execution_count": 42,
   "metadata": {
    "collapsed": false
   },
   "outputs": [
    {
     "data": {
      "text/plain": [
       "Index([                         u'id',                   u'scrape_id',\n",
       "                      u'last_scraped',                        u'name',\n",
       "                       u'picture_url',                     u'host_id',\n",
       "                         u'host_name',            u'host_picture_url',\n",
       "                            u'street',      u'neighbourhood_cleansed',\n",
       "                              u'city',                     u'zipcode',\n",
       "                            u'market',                    u'latitude',\n",
       "                         u'longitude',           u'is_location_exact',\n",
       "                     u'property_type',                   u'room_type',\n",
       "                      u'accommodates',                   u'bathrooms',\n",
       "                          u'bedrooms',                        u'beds',\n",
       "                          u'bed_type',                       u'price',\n",
       "                      u'weekly_price',               u'monthly_price',\n",
       "                   u'guests_included',                u'extra_people',\n",
       "                    u'minimum_nights',              u'maximum_nights',\n",
       "                  u'calendar_updated',             u'availability_30',\n",
       "                   u'availability_60',             u'availability_90',\n",
       "                  u'availability_365',       u'calendar_last_scraped',\n",
       "                 u'number_of_reviews',        u'review_scores_rating',\n",
       "            u'review_scores_accuracy',   u'review_scores_cleanliness',\n",
       "             u'review_scores_checkin', u'review_scores_communication',\n",
       "            u'review_scores_location',         u'review_scores_value',\n",
       "                u'host_listing_count',                  u'host_since',\n",
       "                      u'first_review',                 u'last_review',\n",
       "                         u'sentiment',                   u'Christmas',\n",
       "                         u'New Years',               u'New Years Eve',\n",
       "                  u'Independence Day',                    u'July 4th',\n",
       "                  u'attraction_count'],\n",
       "      dtype='object')"
      ]
     },
     "execution_count": 42,
     "metadata": {},
     "output_type": "execute_result"
    }
   ],
   "source": [
    "# all of the columns in our master dataset\n",
    "df_final.columns"
   ]
  },
  {
   "cell_type": "code",
   "execution_count": 43,
   "metadata": {
    "collapsed": false
   },
   "outputs": [],
   "source": [
    "df_final.to_csv('airbnb_final.csv')"
   ]
  },
  {
   "cell_type": "markdown",
   "metadata": {},
   "source": [
    "### Prices"
   ]
  },
  {
   "cell_type": "markdown",
   "metadata": {},
   "source": [
    "Because we found numerous outliers in the dataset, we believed it would be better to take the log of prices so that prices could be plotted on a more normal distribution. This would also allow us to see relationships between variables and price better. "
   ]
  },
  {
   "cell_type": "code",
   "execution_count": 44,
   "metadata": {
    "collapsed": true
   },
   "outputs": [],
   "source": [
    "log_price = df_final.price.apply(math.log)\n",
    "df['log_price'] = log_price\n",
    "df['log_price'].to_csv('log_prices.csv')"
   ]
  }
 ],
 "metadata": {
  "anaconda-cloud": {},
  "kernelspec": {
   "display_name": "Python [Root]",
   "language": "python",
   "name": "Python [Root]"
  },
  "language_info": {
   "codemirror_mode": {
    "name": "ipython",
    "version": 2
   },
   "file_extension": ".py",
   "mimetype": "text/x-python",
   "name": "python",
   "nbconvert_exporter": "python",
   "pygments_lexer": "ipython2",
   "version": "2.7.12"
  }
 },
 "nbformat": 4,
 "nbformat_minor": 0
}
